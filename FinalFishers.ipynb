{
  "nbformat": 4,
  "nbformat_minor": 0,
  "metadata": {
    "colab": {
      "provenance": []
    },
    "kernelspec": {
      "name": "python3",
      "display_name": "Python 3"
    },
    "language_info": {
      "name": "python"
    }
  },
  "cells": [
    {
      "cell_type": "code",
      "execution_count": null,
      "metadata": {
        "colab": {
          "base_uri": "https://localhost:8080/",
          "height": 406
        },
        "id": "I20HZOnCflr2",
        "outputId": "81e3c1e4-b2e2-42f0-d0ef-5672e55e6534"
      },
      "outputs": [
        {
          "output_type": "stream",
          "name": "stdout",
          "text": [
            "Drive already mounted at /content/drive; to attempt to forcibly remount, call drive.mount(\"/content/drive\", force_remount=True).\n"
          ]
        },
        {
          "output_type": "stream",
          "name": "stderr",
          "text": [
            "/usr/local/lib/python3.9/dist-packages/matplotlib/cbook/__init__.py:1335: ComplexWarning: Casting complex values to real discards the imaginary part\n",
            "  return np.asarray(x, float)\n"
          ]
        },
        {
          "output_type": "display_data",
          "data": {
            "text/plain": [
              "<Figure size 432x288 with 1 Axes>"
            ],
            "image/png": "[encoded data removed]"
          },
          "metadata": {
            "needs_background": "light"
          }
        },
        {
          "output_type": "stream",
          "name": "stdout",
          "text": [
            "Accuracy: 0.6408450704225352\n",
            "Precision: 0.91\n",
            "Recall: 0.0\n",
            "Threshold (-0.51403680336085+0j)\n"
          ]
        }
      ],
      "source": [
        "import numpy as np\n",
        "import pandas as pd\n",
        "import matplotlib.pyplot as plt\n",
        "\n",
        "# Load data\n",
        "from google.colab import drive\n",
        "drive.mount('/content/drive')\n",
        "path = '/content/drive/MyDrive/ML Assignment/DataSetforAssignment1.csv'\n",
        "data= pd.read_csv(path)\n",
        "\n",
        "# Separate features and target\n",
        "X = data.iloc[:, 2:].values\n",
        "y = data.iloc[:, 1].values\n",
        "y = np.where(y == \"M\", -1, 1)\n",
        "\n",
        "# Split into train and test sets\n",
        "np.random.seed(42)\n",
        "indices = np.random.permutation(len(X))\n",
        "X_train = X[indices[:-int(len(X)*0.25)]]\n",
        "X_test = X[indices[-int(len(X)*0.25):]]\n",
        "y_train = y[indices[:-int(len(y)*0.25)]]\n",
        "y_test = y[indices[-int(len(y)*0.25):]]\n",
        "\n",
        "# Compute class means and variances\n",
        "mean_0 = np.mean(X_train[y_train == -1], axis=0)\n",
        "mean_1 = np.mean(X_train[y_train == 1], axis=0)\n",
        "var_0 = np.var(X_train[y_train == -1], axis=0)\n",
        "var_1 = np.var(X_train[y_train == 1], axis=0)\n",
        "\n",
        "# Compute within-class covariance matrix\n",
        "S_w = np.diag(var_0 + var_1)\n",
        "\n",
        "# Compute between-class covariance matrix\n",
        "S_b = np.outer(mean_1 - mean_0, mean_1 - mean_0)\n",
        "\n",
        "# Compute eigenvectors and eigenvalues of S_w^-1 * S_b\n",
        "eig_vals, eig_vecs = np.linalg.eig(np.linalg.inv(S_w) @ S_b)\n",
        "\n",
        "# Sort eigenvectors by decreasing eigenvalues\n",
        "idx = eig_vals.argsort()[::-1]\n",
        "eig_vals = eig_vals[idx]\n",
        "eig_vecs = eig_vecs[:, idx]\n",
        "\n",
        "# Project data onto the first eigenvector\n",
        "X_train_proj = X_train @ eig_vecs[:, 0]\n",
        "X_test_proj = X_test @ eig_vecs[:, 0]\n",
        "\n",
        "# Compute means and variances of projected data\n",
        "mean_0_proj = np.mean(X_train_proj[y_train == -1])\n",
        "mean_1_proj = np.mean(X_train_proj[y_train == 1])\n",
        "var_0_proj = np.var(X_train_proj[y_train == -1])\n",
        "var_1_proj = np.var(X_train_proj[y_train == 1])\n",
        "\n",
        "# Compute decision threshold\n",
        "threshold = (mean_0_proj + mean_1_proj) / 2\n",
        "# a = (1 / var_1_proj) - (1 / var_0_proj)\n",
        "# b = 2 * (mean_1_proj/var_1_proj - mean_0_proj/var_0_proj)\n",
        "# c = (((mean_0_proj ** 2)/var_0_proj - (mean_1_proj ** 2)/var_1_proj) + np.log(var_0_proj/var_1_proj))\n",
        "# roots = np.roots([a, b, c])\n",
        "# threshold= roots[1]\n",
        "\n",
        "# Compute class conditional densities\n",
        "x = np.linspace(X_train_proj.min(), X_train_proj.max(), 1000)\n",
        "p_0 = 1 / np.sqrt(2 * np.pi * var_0_proj) * np.exp(-0.5 * (x - mean_0_proj)**2 / var_0_proj)\n",
        "p_1 = 1 / np.sqrt(2 * np.pi * var_1_proj) * np.exp(-0.5 * (x - mean_1_proj)**2 / var_1_proj)\n",
        "\n",
        "# Compute intersection point\n",
        "a = -(mean_1_proj - mean_0_proj) / (var_0_proj + var_1_proj)\n",
        "\n",
        "# Compute model predictions\n",
        "y_pred = np.zeros_like(y_test)\n",
        "y_pred[X_test_proj > threshold] = 1\n",
        "# Plot class conditional densities and decision boundary\n",
        "plt.plot(x, p_0, label=\"Class 0\")\n",
        "plt.plot(x, p_1, label=\"Class 1\")\n",
        "plt.axvline(x=threshold, color=\"black\", linestyle=\"--\", label=\"Decision boundary\")\n",
        "plt.legend()\n",
        "plt.show()\n",
        "# Compute accuracy, precision, and recall\n",
        "accuracy = np.mean(y_pred == y_test)\n",
        "precision = np.sum((y_pred == 1) & (y_test == 1)) / np.sum(y_pred == 1)\n",
        "recall = np.sum((y_pred == -1) & (y_test == -1)) / np.sum(y_test == -1)\n",
        "\n",
        "print('Accuracy:', accuracy)\n",
        "print('Precision:', precision)\n",
        "print('Recall:', recall)\n",
        "print('Threshold',threshold)"
      ]
    },
    {
      "cell_type": "code",
      "source": [
        "\n",
        "\n",
        "import numpy as np\n",
        "import pandas as pd\n",
        "import matplotlib.pyplot as plt\n",
        "\n",
        "# Load data\n",
        "from google.colab import drive\n",
        "drive.mount('/content/drive')\n",
        "path = '/content/drive/MyDrive/ML Assignment/DataSetforAssignment1.csv'\n",
        "data= pd.read_csv(path)\n",
        "\n",
        "\n",
        "\n",
        "# Get column names\n",
        "col_names = list(data.columns)\n",
        "\n",
        "# Shuffle columns except the 2nd column\n",
        "cols = col_names[2:]\n",
        "np.random.shuffle(cols)\n",
        "cols = ['diagnosis'] + cols\n",
        "\n",
        "# Reorder columns\n",
        "data = data[cols]\n",
        "\n",
        "# Separate features and labels\n",
        "X = data.iloc[:, 1:].to_numpy()\n",
        "y = np.where(data.iloc[:, 0] == 'M', -1, 1)\n",
        "# # Separate features and target\n",
        "# X = data.iloc[:, 2:].values\n",
        "# y = data.iloc[:, 1].values\n",
        "# y = np.where(y == \"M\", -1, 1)\n",
        "\n",
        "\n",
        "# Split into train and test sets\n",
        "np.random.seed(42)\n",
        "indices = np.random.permutation(len(X))\n",
        "X_train = X[indices[:-int(len(X)*0.25)]]\n",
        "X_test = X[indices[-int(len(X)*0.25):]]\n",
        "y_train = y[indices[:-int(len(y)*0.25)]]\n",
        "y_test = y[indices[-int(len(y)*0.25):]]\n",
        "\n",
        "# Compute class means and variances\n",
        "mean_0 = np.mean(X_train[y_train == -1], axis=0)\n",
        "mean_1 = np.mean(X_train[y_train == 1], axis=0)\n",
        "var_0 = np.var(X_train[y_train == -1], axis=0)\n",
        "var_1 = np.var(X_train[y_train == 1], axis=0)\n",
        "\n",
        "# Compute within-class covariance matrix\n",
        "S_w = np.diag(var_0 + var_1)\n",
        "\n",
        "# Compute between-class covariance matrix\n",
        "S_b = np.outer(mean_1 - mean_0, mean_1 - mean_0)\n",
        "\n",
        "# Compute eigenvectors and eigenvalues of S_w^-1 * S_b\n",
        "eig_vals, eig_vecs = np.linalg.eig(np.linalg.inv(S_w) @ S_b)\n",
        "\n",
        "# Sort eigenvectors by decreasing eigenvalues\n",
        "idx = eig_vals.argsort()[::-1]\n",
        "eig_vals = eig_vals[idx]\n",
        "eig_vecs = eig_vecs[:, idx]\n",
        "\n",
        "# Project data onto the first eigenvector\n",
        "X_train_proj = X_train @ eig_vecs[:, 0]\n",
        "X_test_proj = X_test @ eig_vecs[:, 0]\n",
        "\n",
        "# Compute means and variances of projected data\n",
        "mean_0_proj = np.mean(X_train_proj[y_train == -1])\n",
        "mean_1_proj = np.mean(X_train_proj[y_train == 1])\n",
        "var_0_proj = np.var(X_train_proj[y_train == -1])\n",
        "var_1_proj = np.var(X_train_proj[y_train == 1])\n",
        "\n",
        "# Compute decision threshold\n",
        "threshold = (mean_0_proj + mean_1_proj) / 2\n",
        "\n",
        "# Compute class conditional densities\n",
        "x = np.linspace(X_train_proj.min(), X_train_proj.max(), 1000)\n",
        "p_0 = 1 / np.sqrt(2 * np.pi * var_0_proj) * np.exp(-0.5 * (x - mean_0_proj)**2 / var_0_proj)\n",
        "p_1 = 1 / np.sqrt(2 * np.pi * var_1_proj) * np.exp(-0.5 * (x - mean_1_proj)**2 / var_1_proj)\n",
        "\n",
        "# Compute intersection point\n",
        "a = -(mean_1_proj - mean_0_proj) / (var_0_proj + var_1_proj)\n",
        "\n",
        "# Compute model predictions\n",
        "y_pred = np.zeros_like(y_test)\n",
        "y_pred[X_test_proj > threshold] = 1\n",
        "\n",
        "\n",
        "# Plot class conditional densities and decision boundary\n",
        "plt.plot(x, p_0, label=\"Class 0\")\n",
        "plt.plot(x, p_1, label=\"Class 1\")\n",
        "plt.axvline(x=threshold, color=\"black\", linestyle=\"--\", label=\"Decision boundary\")\n",
        "plt.legend()\n",
        "plt.show()\n",
        "\n",
        "# Compute accuracy, precision, and recall\n",
        "accuracy = np.mean(y_pred == y_test)\n",
        "precision = np.sum((y_pred == 1) & (y_test == 1)) / np.sum(y_pred == 1)\n",
        "recall = np.sum((y_pred == -1) & (y_test == -1)) / np.sum(y_test == -1)\n",
        "\n",
        "\n",
        "print('Accuracy:', accuracy)\n",
        "print('Precision:', precision)\n",
        "print('Recall:', recall)\n",
        "print('Threshold',threshold)"
      ],
      "metadata": {
        "colab": {
          "base_uri": "https://localhost:8080/",
          "height": 406
        },
        "id": "UFo_0L_Cg9bc",
        "outputId": "00be72d3-4814-45e6-ed57-066a554b1dc6"
      },
      "execution_count": null,
      "outputs": [
        {
          "output_type": "stream",
          "name": "stdout",
          "text": [
            "Drive already mounted at /content/drive; to attempt to forcibly remount, call drive.mount(\"/content/drive\", force_remount=True).\n"
          ]
        },
        {
          "output_type": "stream",
          "name": "stderr",
          "text": [
            "/usr/local/lib/python3.9/dist-packages/matplotlib/cbook/__init__.py:1335: ComplexWarning: Casting complex values to real discards the imaginary part\n",
            "  return np.asarray(x, float)\n"
          ]
        },
        {
          "output_type": "display_data",
          "data": {
            "text/plain": [
              "<Figure size 432x288 with 1 Axes>"
            ],
            "image/png": "[encoded data removed]"
          },
          "metadata": {
            "needs_background": "light"
          }
        },
        {
          "output_type": "stream",
          "name": "stdout",
          "text": [
            "Accuracy: 0.6408450704225352\n",
            "Precision: 0.91\n",
            "Recall: 0.0\n",
            "Threshold (-0.5140368033608502+0j)\n"
          ]
        }
      ]
    },
    {
      "cell_type": "code",
      "source": [
        "s_f=0.67 #splitting factor(ratio between training data and test)\n",
        "n_train = math.floor(s_f * X.shape[0])\n",
        "n_test = math.ceil((1-s_f) * X.shape[0])\n",
        "X_train = X[:n_train]\n",
        "y_train = y[:n_train]\n",
        "X_test = X[n_train:]\n",
        "y_test = y[n_train:]\n",
        "print(\"Total Number of rows in train:\",X_train.shape[0])\n",
        "print(\"Total Number of rows in test:\",X_test.shape[0])"
      ],
      "metadata": {
        "id": "SNpzVjfHX0lX"
      },
      "execution_count": null,
      "outputs": []
    }
  ]
}
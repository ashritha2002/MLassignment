{
  "nbformat": 4,
  "nbformat_minor": 0,
  "metadata": {
    "colab": {
      "provenance": []
    },
    "kernelspec": {
      "name": "python3",
      "display_name": "Python 3"
    },
    "language_info": {
      "name": "python"
    }
  },
  "cells": [
    {
      "cell_type": "markdown",
      "source": [
        "PM1"
      ],
      "metadata": {
        "id": "hxgx_rlK2CEb"
      }
    },
    {
      "cell_type": "code",
      "execution_count": null,
      "metadata": {
        "id": "s6_pnseky3pK",
        "colab": {
          "base_uri": "https://localhost:8080/"
        },
        "outputId": "36c5bf1c-f344-4985-bc8f-1eace4c2a506"
      },
      "outputs": [
        {
          "output_type": "stream",
          "name": "stdout",
          "text": [
            "Drive already mounted at /content/drive; to attempt to forcibly remount, call drive.mount(\"/content/drive\", force_remount=True).\n"
          ]
        },
        {
          "output_type": "stream",
          "name": "stderr",
          "text": [
            "<ipython-input-5-c63f79ac5e6e>:40: FutureWarning: In a future version of pandas all arguments of DataFrame.drop except for the argument 'labels' will be keyword-only.\n",
            "  X = np.array(data.drop([\"diagnosis\"],1))\n"
          ]
        }
      ],
      "source": [
        "import numpy as np\n",
        "import pandas as pd\n",
        "import  math\n",
        "class Perceptron:\n",
        "    def __init__(self, learning_rate=0.5, n_iterations=1000):\n",
        "        self.learning_rate = learning_rate\n",
        "        self.n_iterations = n_iterations\n",
        "        self.weights = None\n",
        "        self.bias = None\n",
        "        self.converged = False\n",
        "    def fit(self, X, y):\n",
        "        n_samples, n_features = X.shape\n",
        "        self.weights = np.zeros(n_features)\n",
        "        self.bias = 0\n",
        "        \n",
        "        for _ in range(self.n_iterations):\n",
        "            for i in range(n_samples):\n",
        "                linear_output = np.dot(X[i], self.weights) + self.bias\n",
        "                y_predicted = self.activation(linear_output)\n",
        "                update = self.learning_rate * (y[i] - y_predicted)\n",
        "                self.weights += update * X[i]\n",
        "                self.bias += update\n",
        "            if np.all(self.predict(X) == y):\n",
        "                self.converged = True\n",
        "                break\n",
        "    def predict(self, X):\n",
        "        linear_output = np.dot(X, self.weights) + self.bias\n",
        "        y_predicted = self.activation(linear_output)\n",
        "        return y_predicted\n",
        "    \n",
        "    def activation(self, x):\n",
        "        return np.where(x >= 0, 1, -1)\n",
        "    \n",
        "# Load data\n",
        "from google.colab import drive\n",
        "drive.mount('/content/drive')\n",
        "path = '/content/drive/MyDrive/ML Assignment/DataSetforAssignment1.csv'\n",
        "data= pd.read_csv(path)\n",
        "# data = np.genfromtxt('data.csv', delimiter=',')\n",
        "X = np.array(data.drop([\"diagnosis\"],1))\n",
        "y = np.array(data[\"diagnosis\"])\n",
        "y = np.where(y == \"M\", -1, 1)\n",
        "\n",
        "\n",
        "# Initialize model\n",
        "model = Perceptron(learning_rate=0.5, n_iterations=4000)\n",
        "\n",
        "# Fit model to data\n",
        "model.fit(X, y)\n",
        "\n",
        "# Make predictions\n",
        "y_pred = model.predict(X)\n",
        "# Calculate accuracy, precision, and recall\n",
        "accuracy = np.mean(y_pred == y)\n",
        "precision = np.sum((y_pred == -1) & (y == -1)) / np.sum(y_pred == -1)\n",
        "recall = np.sum((y_pred == -1) & (y == -1)) / np.sum(y == -1)\n",
        "\n",
        "print('Accuracy:', accuracy)\n",
        "print('Precision:', precision)\n",
        "print('Recall:', recall)\n",
        "\n"
      ]
    },
    {
      "cell_type": "code",
      "source": [
        "s_f=0.67 #splitting factor(ratio between training data and test)\n",
        "n_train = math.floor(s_f * X.shape[0])\n",
        "n_test = math.ceil((1-s_f) * X.shape[0])\n",
        "X_train = X[:n_train]\n",
        "y_train = y[:n_train]\n",
        "X_test = X[n_train:]\n",
        "y_test = y[n_train:]\n",
        "print(\"Total Number of rows in train:\",X_train.shape[0])\n",
        "print(\"Total Number of rows in test:\",X_test.shape[0])"
      ],
      "metadata": {
        "id": "7Ubod4stXgR3"
      },
      "execution_count": null,
      "outputs": []
    },
    {
      "cell_type": "code",
      "source": [
        "# Check if data is linearly separable\n",
        "if model.converged:\n",
        "    print('Data is linearly separable')\n",
        "else:\n",
        "    print('Data is not linearly separable')"
      ],
      "metadata": {
        "colab": {
          "base_uri": "https://localhost:8080/"
        },
        "id": "g4ozDiY90EhL",
        "outputId": "0d8475e4-1b95-4993-eb61-062c98da0d67"
      },
      "execution_count": null,
      "outputs": [
        {
          "output_type": "stream",
          "name": "stdout",
          "text": [
            "Data is not linearly separable\n"
          ]
        }
      ]
    },
    {
      "cell_type": "markdown",
      "source": [
        "PM2"
      ],
      "metadata": {
        "id": "CXZ4fxFM2gbJ"
      }
    },
    {
      "cell_type": "code",
      "source": [
        "data = data.sample(frac = 1)#shuffles data to avoid biasor variance\n",
        "\n",
        "X = np.array(data.drop([\"diagnosis\"],1))\n",
        "y = np.array(data[\"diagnosis\"])\n",
        "y = np.where(y == \"M\", -1, 1)\n",
        "\n",
        "\n",
        "# Initialize model\n",
        "model = Perceptron(learning_rate=0.5, n_iterations=4000)\n",
        "\n",
        "# Fit model to data\n",
        "model.fit(X, y)\n",
        "\n",
        "# Make predictions\n",
        "y_pred = model.predict(X)\n",
        "\n",
        "# Calculate accuracy, precision, and recall\n",
        "accuracy = np.mean(y_pred == y)\n",
        "precision = np.sum((y_pred == -1) & (y == -1)) / np.sum(y_pred == -1)\n",
        "recall = np.sum((y_pred == -1) & (y == -1)) / np.sum(y == -1)\n",
        "\n",
        "print('Accuracy:', accuracy)\n",
        "print('Precision:', precision)\n",
        "print('Recall:', recall)\n"
      ],
      "metadata": {
        "colab": {
          "base_uri": "https://localhost:8080/"
        },
        "id": "gw4juqE_2X4Q",
        "outputId": "8fd18105-8310-4cdb-9868-dc00a87873fa"
      },
      "execution_count": null,
      "outputs": [
        {
          "output_type": "stream",
          "name": "stderr",
          "text": [
            "<ipython-input-6-47a77b3055f8>:3: FutureWarning: In a future version of pandas all arguments of DataFrame.drop except for the argument 'labels' will be keyword-only.\n",
            "  X = np.array(data.drop([\"diagnosis\"],1))\n"
          ]
        },
        {
          "output_type": "stream",
          "name": "stdout",
          "text": [
            "Accuracy: 0.9279437609841827\n",
            "Precision: 0.8868778280542986\n",
            "Recall: 0.9245283018867925\n"
          ]
        }
      ]
    },
    {
      "cell_type": "code",
      "source": [
        "# Check if data is linearly separable\n",
        "if model.converged:\n",
        "    print('Data is linearly separable')\n",
        "else:\n",
        "    print('Data is not linearly separable')"
      ],
      "metadata": {
        "colab": {
          "base_uri": "https://localhost:8080/"
        },
        "id": "KADM2zAo2eW0",
        "outputId": "8b03cf1d-f550-4dde-fb73-10d864d86ca1"
      },
      "execution_count": null,
      "outputs": [
        {
          "output_type": "stream",
          "name": "stdout",
          "text": [
            "Data is not linearly separable\n"
          ]
        }
      ]
    },
    {
      "cell_type": "markdown",
      "source": [
        "PM3"
      ],
      "metadata": {
        "id": "O_ofY1b62_Ya"
      }
    },
    {
      "cell_type": "code",
      "source": [
        "path = '/content/drive/MyDrive/ML Assignment/DataSetforAssignment1.csv'\n",
        "data= pd.read_csv(path)\n",
        "# data = np.genfromtxt('data.csv', delimiter=',')\n",
        "X = np.array(data.drop([\"diagnosis\"],1))\n",
        "y = np.array(data[\"diagnosis\"])\n",
        "y = np.where(y == \"M\", -1, 1)\n",
        "\n",
        "X = (X - X.mean(axis=0)) / X.std(axis=0)\n",
        "\n",
        "# Initialize model\n",
        "model = Perceptron(learning_rate=0.5, n_iterations=4000)\n",
        "\n",
        "# Fit model to data\n",
        "model.fit(X, y)\n",
        "\n",
        "# Make predictions\n",
        "y_pred = model.predict(X)\n",
        "\n",
        "# Calculate accuracy, precision, and recall\n",
        "accuracy = np.mean(y_pred == y)\n",
        "precision = np.sum((y_pred == -1) & (y == -1)) / np.sum(y_pred == -1)\n",
        "recall = np.sum((y_pred == -1) & (y == -1)) / np.sum(y == -1)\n",
        "\n",
        "print('Accuracy:', accuracy)\n",
        "print('Precision:', precision)\n",
        "print('Recall:', recall)\n"
      ],
      "metadata": {
        "colab": {
          "base_uri": "https://localhost:8080/"
        },
        "id": "mOvtFDaR3AkT",
        "outputId": "d16a4536-8ffe-4bbc-d72f-774e06514132"
      },
      "execution_count": null,
      "outputs": [
        {
          "output_type": "stream",
          "name": "stderr",
          "text": [
            "<ipython-input-4-bc0bfe82e15c>:4: FutureWarning: In a future version of pandas all arguments of DataFrame.drop except for the argument 'labels' will be keyword-only.\n",
            "  X = np.array(data.drop([\"diagnosis\"],1))\n"
          ]
        },
        {
          "output_type": "stream",
          "name": "stdout",
          "text": [
            "Accuracy: 0.9894551845342706\n",
            "Precision: 0.9904761904761905\n",
            "Recall: 0.9811320754716981\n"
          ]
        }
      ]
    },
    {
      "cell_type": "code",
      "source": [
        "# Check if data is linearly separable\n",
        "if model.converged:\n",
        "    print('Data is linearly separable')\n",
        "else:\n",
        "    print('Data is not linearly separable')"
      ],
      "metadata": {
        "id": "CAUiUuiO3SRw"
      },
      "execution_count": null,
      "outputs": []
    },
    {
      "cell_type": "markdown",
      "source": [
        "PM4 "
      ],
      "metadata": {
        "id": "j48zhacm3UIC"
      }
    },
    {
      "cell_type": "code",
      "source": [
        "# Load data\n",
        "from google.colab import drive\n",
        "drive.mount('/content/drive')\n",
        "path = '/content/drive/MyDrive/ML Assignment/DataSetforAssignment1.csv'\n",
        "data= pd.read_csv(path)\n",
        "\n",
        "\n",
        "# Get column names\n",
        "col_names = list(data.columns)\n",
        "\n",
        "# Shuffle columns except the 2nd column\n",
        "cols = col_names[2:]\n",
        "np.random.shuffle(cols)\n",
        "cols = ['diagnosis'] + cols\n",
        "\n",
        "# Reorder columns\n",
        "data = data[cols]\n",
        "\n",
        "# Separate features and labels\n",
        "X = data.iloc[:, 1:].to_numpy()\n",
        "y = np.where(data.iloc[:, 0] == 'M', -1, 1)\n",
        "\n",
        "\n",
        "# Initialize model\n",
        "model = Perceptron(learning_rate=0.5, n_iterations=4000)\n",
        "\n",
        "# Fit model to data\n",
        "model.fit(X, y)\n",
        "\n",
        "# Make predictions\n",
        "y_pred = model.predict(X)\n",
        "\n",
        "# Calculate accuracy, precision, and recall\n",
        "accuracy = np.mean(y_pred == y)\n",
        "precision = np.sum((y_pred == -1) & (y == -1)) / np.sum(y_pred == -1)\n",
        "recall = np.sum((y_pred == -1) & (y == -1)) / np.sum(y == -1)\n",
        "\n",
        "print('Accuracy:', accuracy)\n",
        "print('Precision:', precision)\n",
        "print('Recall:', recall)\n"
      ],
      "metadata": {
        "colab": {
          "base_uri": "https://localhost:8080/"
        },
        "id": "-G0DuuWs3WNh",
        "outputId": "a2669da3-5473-4c23-ad45-54f8c90318e3"
      },
      "execution_count": null,
      "outputs": [
        {
          "output_type": "stream",
          "name": "stdout",
          "text": [
            "Drive already mounted at /content/drive; to attempt to forcibly remount, call drive.mount(\"/content/drive\", force_remount=True).\n",
            "Accuracy: 0.8822495606326889\n",
            "Precision: 0.7799227799227799\n",
            "Recall: 0.9528301886792453\n"
          ]
        }
      ]
    },
    {
      "cell_type": "code",
      "source": [
        "# Check if data is linearly separable\n",
        "if model.converged:\n",
        "    print('Data is linearly separable')\n",
        "else:\n",
        "    print('Data is not linearly separable')"
      ],
      "metadata": {
        "colab": {
          "base_uri": "https://localhost:8080/"
        },
        "id": "MN02_Nw07uZy",
        "outputId": "4ea14f2b-09b0-4184-faa3-4f376aa674eb"
      },
      "execution_count": null,
      "outputs": [
        {
          "output_type": "stream",
          "name": "stdout",
          "text": [
            "Data is not linearly separable\n"
          ]
        }
      ]
    }
  ]
}